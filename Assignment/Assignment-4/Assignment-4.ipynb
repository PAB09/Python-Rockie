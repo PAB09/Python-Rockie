{
 "cells": [
  {
   "cell_type": "markdown",
   "id": "b9a073b0",
   "metadata": {},
   "source": [
    "# Assignment-4"
   ]
  },
  {
   "cell_type": "markdown",
   "id": "af841f1b",
   "metadata": {},
   "source": [
    "# Plotting Titanic Dataset"
   ]
  },
  {
   "cell_type": "code",
   "execution_count": 216,
   "id": "00bd33d8",
   "metadata": {},
   "outputs": [
    {
     "data": {
      "text/html": [
       "<div>\n",
       "<style scoped>\n",
       "    .dataframe tbody tr th:only-of-type {\n",
       "        vertical-align: middle;\n",
       "    }\n",
       "\n",
       "    .dataframe tbody tr th {\n",
       "        vertical-align: top;\n",
       "    }\n",
       "\n",
       "    .dataframe thead th {\n",
       "        text-align: right;\n",
       "    }\n",
       "</style>\n",
       "<table border=\"1\" class=\"dataframe\">\n",
       "  <thead>\n",
       "    <tr style=\"text-align: right;\">\n",
       "      <th></th>\n",
       "      <th>0</th>\n",
       "      <th>1</th>\n",
       "      <th>2</th>\n",
       "      <th>3</th>\n",
       "      <th>4</th>\n",
       "      <th>5</th>\n",
       "      <th>6</th>\n",
       "      <th>7</th>\n",
       "      <th>8</th>\n",
       "      <th>9</th>\n",
       "      <th>10</th>\n",
       "      <th>11</th>\n",
       "      <th>12</th>\n",
       "      <th>13</th>\n",
       "    </tr>\n",
       "  </thead>\n",
       "  <tbody>\n",
       "    <tr>\n",
       "      <th>0</th>\n",
       "      <td>pclass</td>\n",
       "      <td>survived</td>\n",
       "      <td>name</td>\n",
       "      <td>sex</td>\n",
       "      <td>age</td>\n",
       "      <td>sibsp</td>\n",
       "      <td>parch</td>\n",
       "      <td>ticket</td>\n",
       "      <td>fare</td>\n",
       "      <td>cabin</td>\n",
       "      <td>embarked</td>\n",
       "      <td>boat</td>\n",
       "      <td>body</td>\n",
       "      <td>home.dest</td>\n",
       "    </tr>\n",
       "    <tr>\n",
       "      <th>1</th>\n",
       "      <td>1</td>\n",
       "      <td>1</td>\n",
       "      <td>Allen, Miss. Elisabeth Walton</td>\n",
       "      <td>female</td>\n",
       "      <td>29</td>\n",
       "      <td>0</td>\n",
       "      <td>0</td>\n",
       "      <td>24160</td>\n",
       "      <td>211.3375</td>\n",
       "      <td>B5</td>\n",
       "      <td>S</td>\n",
       "      <td>2</td>\n",
       "      <td>NaN</td>\n",
       "      <td>St Louis, MO</td>\n",
       "    </tr>\n",
       "    <tr>\n",
       "      <th>2</th>\n",
       "      <td>1</td>\n",
       "      <td>1</td>\n",
       "      <td>Allison, Master. Hudson Trevor</td>\n",
       "      <td>male</td>\n",
       "      <td>0.9167</td>\n",
       "      <td>1</td>\n",
       "      <td>2</td>\n",
       "      <td>113781</td>\n",
       "      <td>151.55</td>\n",
       "      <td>C22 C26</td>\n",
       "      <td>S</td>\n",
       "      <td>11</td>\n",
       "      <td>NaN</td>\n",
       "      <td>Montreal, PQ / Chesterville, ON</td>\n",
       "    </tr>\n",
       "    <tr>\n",
       "      <th>3</th>\n",
       "      <td>1</td>\n",
       "      <td>0</td>\n",
       "      <td>Allison, Miss. Helen Loraine</td>\n",
       "      <td>female</td>\n",
       "      <td>2</td>\n",
       "      <td>1</td>\n",
       "      <td>2</td>\n",
       "      <td>113781</td>\n",
       "      <td>151.55</td>\n",
       "      <td>C22 C26</td>\n",
       "      <td>S</td>\n",
       "      <td>NaN</td>\n",
       "      <td>NaN</td>\n",
       "      <td>Montreal, PQ / Chesterville, ON</td>\n",
       "    </tr>\n",
       "    <tr>\n",
       "      <th>4</th>\n",
       "      <td>1</td>\n",
       "      <td>0</td>\n",
       "      <td>Allison, Mr. Hudson Joshua Creighton</td>\n",
       "      <td>male</td>\n",
       "      <td>30</td>\n",
       "      <td>1</td>\n",
       "      <td>2</td>\n",
       "      <td>113781</td>\n",
       "      <td>151.55</td>\n",
       "      <td>C22 C26</td>\n",
       "      <td>S</td>\n",
       "      <td>NaN</td>\n",
       "      <td>135</td>\n",
       "      <td>Montreal, PQ / Chesterville, ON</td>\n",
       "    </tr>\n",
       "    <tr>\n",
       "      <th>...</th>\n",
       "      <td>...</td>\n",
       "      <td>...</td>\n",
       "      <td>...</td>\n",
       "      <td>...</td>\n",
       "      <td>...</td>\n",
       "      <td>...</td>\n",
       "      <td>...</td>\n",
       "      <td>...</td>\n",
       "      <td>...</td>\n",
       "      <td>...</td>\n",
       "      <td>...</td>\n",
       "      <td>...</td>\n",
       "      <td>...</td>\n",
       "      <td>...</td>\n",
       "    </tr>\n",
       "    <tr>\n",
       "      <th>1305</th>\n",
       "      <td>3</td>\n",
       "      <td>0</td>\n",
       "      <td>Zabour, Miss. Hileni</td>\n",
       "      <td>female</td>\n",
       "      <td>14.5</td>\n",
       "      <td>1</td>\n",
       "      <td>0</td>\n",
       "      <td>2665</td>\n",
       "      <td>14.4542</td>\n",
       "      <td>NaN</td>\n",
       "      <td>C</td>\n",
       "      <td>NaN</td>\n",
       "      <td>328</td>\n",
       "      <td>NaN</td>\n",
       "    </tr>\n",
       "    <tr>\n",
       "      <th>1306</th>\n",
       "      <td>3</td>\n",
       "      <td>0</td>\n",
       "      <td>Zabour, Miss. Thamine</td>\n",
       "      <td>female</td>\n",
       "      <td>NaN</td>\n",
       "      <td>1</td>\n",
       "      <td>0</td>\n",
       "      <td>2665</td>\n",
       "      <td>14.4542</td>\n",
       "      <td>NaN</td>\n",
       "      <td>C</td>\n",
       "      <td>NaN</td>\n",
       "      <td>NaN</td>\n",
       "      <td>NaN</td>\n",
       "    </tr>\n",
       "    <tr>\n",
       "      <th>1307</th>\n",
       "      <td>3</td>\n",
       "      <td>0</td>\n",
       "      <td>Zakarian, Mr. Mapriededer</td>\n",
       "      <td>male</td>\n",
       "      <td>26.5</td>\n",
       "      <td>0</td>\n",
       "      <td>0</td>\n",
       "      <td>2656</td>\n",
       "      <td>7.225</td>\n",
       "      <td>NaN</td>\n",
       "      <td>C</td>\n",
       "      <td>NaN</td>\n",
       "      <td>304</td>\n",
       "      <td>NaN</td>\n",
       "    </tr>\n",
       "    <tr>\n",
       "      <th>1308</th>\n",
       "      <td>3</td>\n",
       "      <td>0</td>\n",
       "      <td>Zakarian, Mr. Ortin</td>\n",
       "      <td>male</td>\n",
       "      <td>27</td>\n",
       "      <td>0</td>\n",
       "      <td>0</td>\n",
       "      <td>2670</td>\n",
       "      <td>7.225</td>\n",
       "      <td>NaN</td>\n",
       "      <td>C</td>\n",
       "      <td>NaN</td>\n",
       "      <td>NaN</td>\n",
       "      <td>NaN</td>\n",
       "    </tr>\n",
       "    <tr>\n",
       "      <th>1309</th>\n",
       "      <td>3</td>\n",
       "      <td>0</td>\n",
       "      <td>Zimmerman, Mr. Leo</td>\n",
       "      <td>male</td>\n",
       "      <td>29</td>\n",
       "      <td>0</td>\n",
       "      <td>0</td>\n",
       "      <td>315082</td>\n",
       "      <td>7.875</td>\n",
       "      <td>NaN</td>\n",
       "      <td>S</td>\n",
       "      <td>NaN</td>\n",
       "      <td>NaN</td>\n",
       "      <td>NaN</td>\n",
       "    </tr>\n",
       "  </tbody>\n",
       "</table>\n",
       "<p>1310 rows × 14 columns</p>\n",
       "</div>"
      ],
      "text/plain": [
       "          0         1                                     2       3       4   \\\n",
       "0     pclass  survived                                  name     sex     age   \n",
       "1          1         1         Allen, Miss. Elisabeth Walton  female      29   \n",
       "2          1         1        Allison, Master. Hudson Trevor    male  0.9167   \n",
       "3          1         0          Allison, Miss. Helen Loraine  female       2   \n",
       "4          1         0  Allison, Mr. Hudson Joshua Creighton    male      30   \n",
       "...      ...       ...                                   ...     ...     ...   \n",
       "1305       3         0                  Zabour, Miss. Hileni  female    14.5   \n",
       "1306       3         0                 Zabour, Miss. Thamine  female     NaN   \n",
       "1307       3         0             Zakarian, Mr. Mapriededer    male    26.5   \n",
       "1308       3         0                   Zakarian, Mr. Ortin    male      27   \n",
       "1309       3         0                    Zimmerman, Mr. Leo    male      29   \n",
       "\n",
       "         5      6       7         8        9         10    11    12  \\\n",
       "0     sibsp  parch  ticket      fare    cabin  embarked  boat  body   \n",
       "1         0      0   24160  211.3375       B5         S     2   NaN   \n",
       "2         1      2  113781    151.55  C22 C26         S    11   NaN   \n",
       "3         1      2  113781    151.55  C22 C26         S   NaN   NaN   \n",
       "4         1      2  113781    151.55  C22 C26         S   NaN   135   \n",
       "...     ...    ...     ...       ...      ...       ...   ...   ...   \n",
       "1305      1      0    2665   14.4542      NaN         C   NaN   328   \n",
       "1306      1      0    2665   14.4542      NaN         C   NaN   NaN   \n",
       "1307      0      0    2656     7.225      NaN         C   NaN   304   \n",
       "1308      0      0    2670     7.225      NaN         C   NaN   NaN   \n",
       "1309      0      0  315082     7.875      NaN         S   NaN   NaN   \n",
       "\n",
       "                                   13  \n",
       "0                           home.dest  \n",
       "1                        St Louis, MO  \n",
       "2     Montreal, PQ / Chesterville, ON  \n",
       "3     Montreal, PQ / Chesterville, ON  \n",
       "4     Montreal, PQ / Chesterville, ON  \n",
       "...                               ...  \n",
       "1305                              NaN  \n",
       "1306                              NaN  \n",
       "1307                              NaN  \n",
       "1308                              NaN  \n",
       "1309                              NaN  \n",
       "\n",
       "[1310 rows x 14 columns]"
      ]
     },
     "execution_count": 216,
     "metadata": {},
     "output_type": "execute_result"
    }
   ],
   "source": [
    "import os\n",
    "import pandas as pd\n",
    "import plotly.express as pe\n",
    "import matplotlib.pyplot as plot\n",
    "from IPython.display import Image\n",
    "\n",
    "raw_file = pd.ExcelFile('../data/titanic.xls')\n",
    "Titanic = raw_file.parse(\"titanic\", header=None)\n",
    "Titanic"
   ]
  },
  {
   "cell_type": "code",
   "execution_count": 40,
   "id": "73a511ab",
   "metadata": {},
   "outputs": [
    {
     "name": "stdout",
     "output_type": "stream",
     "text": [
      "Requirement already satisfied: import-ipynb in c:\\users\\prati\\appdata\\local\\programs\\python\\python310\\lib\\site-packages (0.1.3)\n"
     ]
    }
   ],
   "source": [
    "!pip install import-ipynb\n",
    "import import_ipynb"
   ]
  },
  {
   "cell_type": "markdown",
   "id": "642135c8",
   "metadata": {},
   "source": [
    "Importing previous assignment data"
   ]
  },
  {
   "cell_type": "code",
   "execution_count": 206,
   "id": "5d69e1d3",
   "metadata": {},
   "outputs": [],
   "source": [
    "import Titanic as pv"
   ]
  },
  {
   "cell_type": "code",
   "execution_count": 207,
   "id": "9dc74c55",
   "metadata": {},
   "outputs": [
    {
     "data": {
      "text/html": [
       "<div>\n",
       "<style scoped>\n",
       "    .dataframe tbody tr th:only-of-type {\n",
       "        vertical-align: middle;\n",
       "    }\n",
       "\n",
       "    .dataframe tbody tr th {\n",
       "        vertical-align: top;\n",
       "    }\n",
       "\n",
       "    .dataframe thead th {\n",
       "        text-align: right;\n",
       "    }\n",
       "</style>\n",
       "<table border=\"1\" class=\"dataframe\">\n",
       "  <thead>\n",
       "    <tr style=\"text-align: right;\">\n",
       "      <th></th>\n",
       "      <th>Pas_class</th>\n",
       "      <th>Survived</th>\n",
       "      <th>Name</th>\n",
       "      <th>Sex</th>\n",
       "      <th>Age</th>\n",
       "      <th>sibsp</th>\n",
       "      <th>parch</th>\n",
       "      <th>Ticket</th>\n",
       "      <th>Fare</th>\n",
       "      <th>Cabin</th>\n",
       "      <th>Embarked</th>\n",
       "      <th>Boat</th>\n",
       "      <th>Body</th>\n",
       "      <th>home-dest</th>\n",
       "    </tr>\n",
       "  </thead>\n",
       "  <tbody>\n",
       "    <tr>\n",
       "      <th>0</th>\n",
       "      <td>pclass</td>\n",
       "      <td>survived</td>\n",
       "      <td>name</td>\n",
       "      <td>sex</td>\n",
       "      <td>age</td>\n",
       "      <td>sibsp</td>\n",
       "      <td>parch</td>\n",
       "      <td>ticket</td>\n",
       "      <td>fare</td>\n",
       "      <td>cabin</td>\n",
       "      <td>embarked</td>\n",
       "      <td>boat</td>\n",
       "      <td>body</td>\n",
       "      <td>home.dest</td>\n",
       "    </tr>\n",
       "    <tr>\n",
       "      <th>1</th>\n",
       "      <td>1</td>\n",
       "      <td>1</td>\n",
       "      <td>Allen, Miss. Elisabeth Walton</td>\n",
       "      <td>female</td>\n",
       "      <td>29</td>\n",
       "      <td>0</td>\n",
       "      <td>0</td>\n",
       "      <td>24160</td>\n",
       "      <td>211.3375</td>\n",
       "      <td>B5</td>\n",
       "      <td>S</td>\n",
       "      <td>2</td>\n",
       "      <td>NaN</td>\n",
       "      <td>St Louis, MO</td>\n",
       "    </tr>\n",
       "    <tr>\n",
       "      <th>2</th>\n",
       "      <td>1</td>\n",
       "      <td>1</td>\n",
       "      <td>Allison, Master. Hudson Trevor</td>\n",
       "      <td>male</td>\n",
       "      <td>0.9167</td>\n",
       "      <td>1</td>\n",
       "      <td>2</td>\n",
       "      <td>113781</td>\n",
       "      <td>151.55</td>\n",
       "      <td>C22 C26</td>\n",
       "      <td>S</td>\n",
       "      <td>11</td>\n",
       "      <td>NaN</td>\n",
       "      <td>Montreal, PQ / Chesterville, ON</td>\n",
       "    </tr>\n",
       "    <tr>\n",
       "      <th>3</th>\n",
       "      <td>1</td>\n",
       "      <td>0</td>\n",
       "      <td>Allison, Miss. Helen Loraine</td>\n",
       "      <td>female</td>\n",
       "      <td>2</td>\n",
       "      <td>1</td>\n",
       "      <td>2</td>\n",
       "      <td>113781</td>\n",
       "      <td>151.55</td>\n",
       "      <td>C22 C26</td>\n",
       "      <td>S</td>\n",
       "      <td>NaN</td>\n",
       "      <td>NaN</td>\n",
       "      <td>Montreal, PQ / Chesterville, ON</td>\n",
       "    </tr>\n",
       "    <tr>\n",
       "      <th>4</th>\n",
       "      <td>1</td>\n",
       "      <td>0</td>\n",
       "      <td>Allison, Mr. Hudson Joshua Creighton</td>\n",
       "      <td>male</td>\n",
       "      <td>30</td>\n",
       "      <td>1</td>\n",
       "      <td>2</td>\n",
       "      <td>113781</td>\n",
       "      <td>151.55</td>\n",
       "      <td>C22 C26</td>\n",
       "      <td>S</td>\n",
       "      <td>NaN</td>\n",
       "      <td>135</td>\n",
       "      <td>Montreal, PQ / Chesterville, ON</td>\n",
       "    </tr>\n",
       "  </tbody>\n",
       "</table>\n",
       "</div>"
      ],
      "text/plain": [
       "  Pas_class  Survived                                  Name     Sex     Age  \\\n",
       "0    pclass  survived                                  name     sex     age   \n",
       "1         1         1         Allen, Miss. Elisabeth Walton  female      29   \n",
       "2         1         1        Allison, Master. Hudson Trevor    male  0.9167   \n",
       "3         1         0          Allison, Miss. Helen Loraine  female       2   \n",
       "4         1         0  Allison, Mr. Hudson Joshua Creighton    male      30   \n",
       "\n",
       "   sibsp  parch  Ticket      Fare    Cabin  Embarked  Boat  Body  \\\n",
       "0  sibsp  parch  ticket      fare    cabin  embarked  boat  body   \n",
       "1      0      0   24160  211.3375       B5         S     2   NaN   \n",
       "2      1      2  113781    151.55  C22 C26         S    11   NaN   \n",
       "3      1      2  113781    151.55  C22 C26         S   NaN   NaN   \n",
       "4      1      2  113781    151.55  C22 C26         S   NaN   135   \n",
       "\n",
       "                         home-dest  \n",
       "0                        home.dest  \n",
       "1                     St Louis, MO  \n",
       "2  Montreal, PQ / Chesterville, ON  \n",
       "3  Montreal, PQ / Chesterville, ON  \n",
       "4  Montreal, PQ / Chesterville, ON  "
      ]
     },
     "execution_count": 207,
     "metadata": {},
     "output_type": "execute_result"
    }
   ],
   "source": [
    "Titanic.rename(columns={0: 'Pas_class', 1: 'Survived', 2: 'Name', 3: 'Sex', 4: 'Age', 5: 'sibsp', 6: 'parch', 7: 'Ticket', 8: 'Fare', 9: 'Cabin', 10: 'Embarked', 11: 'Boat', 12: 'Body', 13: 'home-dest'}, inplace=True)\n",
    "Titanic.head()"
   ]
  },
  {
   "cell_type": "code",
   "execution_count": 208,
   "id": "be4a1a4b",
   "metadata": {},
   "outputs": [],
   "source": [
    "saved=Titanic.loc[Titanic['Survived']==1] #fetching data for survived passengers"
   ]
  },
  {
   "cell_type": "code",
   "execution_count": 209,
   "id": "cd33a5a1",
   "metadata": {},
   "outputs": [
    {
     "data": {
      "text/html": [
       "<div>\n",
       "<style scoped>\n",
       "    .dataframe tbody tr th:only-of-type {\n",
       "        vertical-align: middle;\n",
       "    }\n",
       "\n",
       "    .dataframe tbody tr th {\n",
       "        vertical-align: top;\n",
       "    }\n",
       "\n",
       "    .dataframe thead th {\n",
       "        text-align: right;\n",
       "    }\n",
       "</style>\n",
       "<table border=\"1\" class=\"dataframe\">\n",
       "  <thead>\n",
       "    <tr style=\"text-align: right;\">\n",
       "      <th></th>\n",
       "      <th>Pas_class</th>\n",
       "      <th>Survived</th>\n",
       "      <th>Name</th>\n",
       "      <th>Sex</th>\n",
       "      <th>Age</th>\n",
       "      <th>sibsp</th>\n",
       "      <th>parch</th>\n",
       "      <th>Ticket</th>\n",
       "      <th>Fare</th>\n",
       "      <th>Cabin</th>\n",
       "      <th>Embarked</th>\n",
       "      <th>Boat</th>\n",
       "      <th>Body</th>\n",
       "      <th>home-dest</th>\n",
       "    </tr>\n",
       "  </thead>\n",
       "  <tbody>\n",
       "    <tr>\n",
       "      <th>1</th>\n",
       "      <td>1</td>\n",
       "      <td>1</td>\n",
       "      <td>Allen, Miss. Elisabeth Walton</td>\n",
       "      <td>female</td>\n",
       "      <td>29</td>\n",
       "      <td>0</td>\n",
       "      <td>0</td>\n",
       "      <td>24160</td>\n",
       "      <td>211.3375</td>\n",
       "      <td>B5</td>\n",
       "      <td>S</td>\n",
       "      <td>2</td>\n",
       "      <td>NaN</td>\n",
       "      <td>St Louis, MO</td>\n",
       "    </tr>\n",
       "    <tr>\n",
       "      <th>2</th>\n",
       "      <td>1</td>\n",
       "      <td>1</td>\n",
       "      <td>Allison, Master. Hudson Trevor</td>\n",
       "      <td>male</td>\n",
       "      <td>0.9167</td>\n",
       "      <td>1</td>\n",
       "      <td>2</td>\n",
       "      <td>113781</td>\n",
       "      <td>151.55</td>\n",
       "      <td>C22 C26</td>\n",
       "      <td>S</td>\n",
       "      <td>11</td>\n",
       "      <td>NaN</td>\n",
       "      <td>Montreal, PQ / Chesterville, ON</td>\n",
       "    </tr>\n",
       "    <tr>\n",
       "      <th>6</th>\n",
       "      <td>1</td>\n",
       "      <td>1</td>\n",
       "      <td>Anderson, Mr. Harry</td>\n",
       "      <td>male</td>\n",
       "      <td>48</td>\n",
       "      <td>0</td>\n",
       "      <td>0</td>\n",
       "      <td>19952</td>\n",
       "      <td>26.55</td>\n",
       "      <td>E12</td>\n",
       "      <td>S</td>\n",
       "      <td>3</td>\n",
       "      <td>NaN</td>\n",
       "      <td>New York, NY</td>\n",
       "    </tr>\n",
       "    <tr>\n",
       "      <th>7</th>\n",
       "      <td>1</td>\n",
       "      <td>1</td>\n",
       "      <td>Andrews, Miss. Kornelia Theodosia</td>\n",
       "      <td>female</td>\n",
       "      <td>63</td>\n",
       "      <td>1</td>\n",
       "      <td>0</td>\n",
       "      <td>13502</td>\n",
       "      <td>77.9583</td>\n",
       "      <td>D7</td>\n",
       "      <td>S</td>\n",
       "      <td>10</td>\n",
       "      <td>NaN</td>\n",
       "      <td>Hudson, NY</td>\n",
       "    </tr>\n",
       "    <tr>\n",
       "      <th>9</th>\n",
       "      <td>1</td>\n",
       "      <td>1</td>\n",
       "      <td>Appleton, Mrs. Edward Dale (Charlotte Lamson)</td>\n",
       "      <td>female</td>\n",
       "      <td>53</td>\n",
       "      <td>2</td>\n",
       "      <td>0</td>\n",
       "      <td>11769</td>\n",
       "      <td>51.4792</td>\n",
       "      <td>C101</td>\n",
       "      <td>S</td>\n",
       "      <td>D</td>\n",
       "      <td>NaN</td>\n",
       "      <td>Bayside, Queens, NY</td>\n",
       "    </tr>\n",
       "    <tr>\n",
       "      <th>...</th>\n",
       "      <td>...</td>\n",
       "      <td>...</td>\n",
       "      <td>...</td>\n",
       "      <td>...</td>\n",
       "      <td>...</td>\n",
       "      <td>...</td>\n",
       "      <td>...</td>\n",
       "      <td>...</td>\n",
       "      <td>...</td>\n",
       "      <td>...</td>\n",
       "      <td>...</td>\n",
       "      <td>...</td>\n",
       "      <td>...</td>\n",
       "      <td>...</td>\n",
       "    </tr>\n",
       "    <tr>\n",
       "      <th>1262</th>\n",
       "      <td>3</td>\n",
       "      <td>1</td>\n",
       "      <td>Turkula, Mrs. (Hedwig)</td>\n",
       "      <td>female</td>\n",
       "      <td>63</td>\n",
       "      <td>0</td>\n",
       "      <td>0</td>\n",
       "      <td>4134</td>\n",
       "      <td>9.5875</td>\n",
       "      <td>NaN</td>\n",
       "      <td>S</td>\n",
       "      <td>15</td>\n",
       "      <td>NaN</td>\n",
       "      <td>NaN</td>\n",
       "    </tr>\n",
       "    <tr>\n",
       "      <th>1278</th>\n",
       "      <td>3</td>\n",
       "      <td>1</td>\n",
       "      <td>Vartanian, Mr. David</td>\n",
       "      <td>male</td>\n",
       "      <td>22</td>\n",
       "      <td>0</td>\n",
       "      <td>0</td>\n",
       "      <td>2658</td>\n",
       "      <td>7.225</td>\n",
       "      <td>NaN</td>\n",
       "      <td>C</td>\n",
       "      <td>13 15</td>\n",
       "      <td>NaN</td>\n",
       "      <td>NaN</td>\n",
       "    </tr>\n",
       "    <tr>\n",
       "      <th>1287</th>\n",
       "      <td>3</td>\n",
       "      <td>1</td>\n",
       "      <td>Whabee, Mrs. George Joseph (Shawneene Abi-Saab)</td>\n",
       "      <td>female</td>\n",
       "      <td>38</td>\n",
       "      <td>0</td>\n",
       "      <td>0</td>\n",
       "      <td>2688</td>\n",
       "      <td>7.2292</td>\n",
       "      <td>NaN</td>\n",
       "      <td>C</td>\n",
       "      <td>C</td>\n",
       "      <td>NaN</td>\n",
       "      <td>NaN</td>\n",
       "    </tr>\n",
       "    <tr>\n",
       "      <th>1291</th>\n",
       "      <td>3</td>\n",
       "      <td>1</td>\n",
       "      <td>Wilkes, Mrs. James (Ellen Needs)</td>\n",
       "      <td>female</td>\n",
       "      <td>47</td>\n",
       "      <td>1</td>\n",
       "      <td>0</td>\n",
       "      <td>363272</td>\n",
       "      <td>7</td>\n",
       "      <td>NaN</td>\n",
       "      <td>S</td>\n",
       "      <td>NaN</td>\n",
       "      <td>NaN</td>\n",
       "      <td>NaN</td>\n",
       "    </tr>\n",
       "    <tr>\n",
       "      <th>1301</th>\n",
       "      <td>3</td>\n",
       "      <td>1</td>\n",
       "      <td>Yasbeck, Mrs. Antoni (Selini Alexander)</td>\n",
       "      <td>female</td>\n",
       "      <td>15</td>\n",
       "      <td>1</td>\n",
       "      <td>0</td>\n",
       "      <td>2659</td>\n",
       "      <td>14.4542</td>\n",
       "      <td>NaN</td>\n",
       "      <td>C</td>\n",
       "      <td>NaN</td>\n",
       "      <td>NaN</td>\n",
       "      <td>NaN</td>\n",
       "    </tr>\n",
       "  </tbody>\n",
       "</table>\n",
       "<p>500 rows × 14 columns</p>\n",
       "</div>"
      ],
      "text/plain": [
       "     Pas_class Survived                                             Name  \\\n",
       "1            1        1                    Allen, Miss. Elisabeth Walton   \n",
       "2            1        1                   Allison, Master. Hudson Trevor   \n",
       "6            1        1                              Anderson, Mr. Harry   \n",
       "7            1        1                Andrews, Miss. Kornelia Theodosia   \n",
       "9            1        1    Appleton, Mrs. Edward Dale (Charlotte Lamson)   \n",
       "...        ...      ...                                              ...   \n",
       "1262         3        1                           Turkula, Mrs. (Hedwig)   \n",
       "1278         3        1                             Vartanian, Mr. David   \n",
       "1287         3        1  Whabee, Mrs. George Joseph (Shawneene Abi-Saab)   \n",
       "1291         3        1                 Wilkes, Mrs. James (Ellen Needs)   \n",
       "1301         3        1          Yasbeck, Mrs. Antoni (Selini Alexander)   \n",
       "\n",
       "         Sex     Age sibsp parch  Ticket      Fare    Cabin Embarked   Boat  \\\n",
       "1     female      29     0     0   24160  211.3375       B5        S      2   \n",
       "2       male  0.9167     1     2  113781    151.55  C22 C26        S     11   \n",
       "6       male      48     0     0   19952     26.55      E12        S      3   \n",
       "7     female      63     1     0   13502   77.9583       D7        S     10   \n",
       "9     female      53     2     0   11769   51.4792     C101        S      D   \n",
       "...      ...     ...   ...   ...     ...       ...      ...      ...    ...   \n",
       "1262  female      63     0     0    4134    9.5875      NaN        S     15   \n",
       "1278    male      22     0     0    2658     7.225      NaN        C  13 15   \n",
       "1287  female      38     0     0    2688    7.2292      NaN        C      C   \n",
       "1291  female      47     1     0  363272         7      NaN        S    NaN   \n",
       "1301  female      15     1     0    2659   14.4542      NaN        C    NaN   \n",
       "\n",
       "     Body                        home-dest  \n",
       "1     NaN                     St Louis, MO  \n",
       "2     NaN  Montreal, PQ / Chesterville, ON  \n",
       "6     NaN                     New York, NY  \n",
       "7     NaN                       Hudson, NY  \n",
       "9     NaN              Bayside, Queens, NY  \n",
       "...   ...                              ...  \n",
       "1262  NaN                              NaN  \n",
       "1278  NaN                              NaN  \n",
       "1287  NaN                              NaN  \n",
       "1291  NaN                              NaN  \n",
       "1301  NaN                              NaN  \n",
       "\n",
       "[500 rows x 14 columns]"
      ]
     },
     "execution_count": 209,
     "metadata": {},
     "output_type": "execute_result"
    }
   ],
   "source": [
    "saved.head(1000)"
   ]
  },
  {
   "cell_type": "code",
   "execution_count": null,
   "id": "f07a5153",
   "metadata": {},
   "outputs": [],
   "source": []
  },
  {
   "cell_type": "code",
   "execution_count": 210,
   "id": "c21a91d0",
   "metadata": {},
   "outputs": [
    {
     "data": {
      "text/html": [
       "<div>\n",
       "<style scoped>\n",
       "    .dataframe tbody tr th:only-of-type {\n",
       "        vertical-align: middle;\n",
       "    }\n",
       "\n",
       "    .dataframe tbody tr th {\n",
       "        vertical-align: top;\n",
       "    }\n",
       "\n",
       "    .dataframe thead th {\n",
       "        text-align: right;\n",
       "    }\n",
       "</style>\n",
       "<table border=\"1\" class=\"dataframe\">\n",
       "  <thead>\n",
       "    <tr style=\"text-align: right;\">\n",
       "      <th></th>\n",
       "      <th>Pas_class</th>\n",
       "      <th>Survived</th>\n",
       "      <th>Name</th>\n",
       "      <th>Sex</th>\n",
       "      <th>Age</th>\n",
       "      <th>sibsp</th>\n",
       "      <th>parch</th>\n",
       "      <th>Ticket</th>\n",
       "      <th>Fare</th>\n",
       "      <th>Cabin</th>\n",
       "      <th>Embarked</th>\n",
       "      <th>Boat</th>\n",
       "      <th>Body</th>\n",
       "      <th>home-dest</th>\n",
       "    </tr>\n",
       "  </thead>\n",
       "  <tbody>\n",
       "    <tr>\n",
       "      <th>1</th>\n",
       "      <td>1</td>\n",
       "      <td>1</td>\n",
       "      <td>Allen, Miss. Elisabeth Walton</td>\n",
       "      <td>female</td>\n",
       "      <td>29</td>\n",
       "      <td>0</td>\n",
       "      <td>0</td>\n",
       "      <td>24160</td>\n",
       "      <td>211.3375</td>\n",
       "      <td>B5</td>\n",
       "      <td>S</td>\n",
       "      <td>2</td>\n",
       "      <td>NaN</td>\n",
       "      <td>St Louis, MO</td>\n",
       "    </tr>\n",
       "    <tr>\n",
       "      <th>2</th>\n",
       "      <td>1</td>\n",
       "      <td>1</td>\n",
       "      <td>Allison, Master. Hudson Trevor</td>\n",
       "      <td>male</td>\n",
       "      <td>0.9167</td>\n",
       "      <td>1</td>\n",
       "      <td>2</td>\n",
       "      <td>113781</td>\n",
       "      <td>151.55</td>\n",
       "      <td>C22 C26</td>\n",
       "      <td>S</td>\n",
       "      <td>11</td>\n",
       "      <td>NaN</td>\n",
       "      <td>Montreal, PQ / Chesterville, ON</td>\n",
       "    </tr>\n",
       "    <tr>\n",
       "      <th>3</th>\n",
       "      <td>1</td>\n",
       "      <td>0</td>\n",
       "      <td>Allison, Miss. Helen Loraine</td>\n",
       "      <td>female</td>\n",
       "      <td>2</td>\n",
       "      <td>1</td>\n",
       "      <td>2</td>\n",
       "      <td>113781</td>\n",
       "      <td>151.55</td>\n",
       "      <td>C22 C26</td>\n",
       "      <td>S</td>\n",
       "      <td>NaN</td>\n",
       "      <td>NaN</td>\n",
       "      <td>Montreal, PQ / Chesterville, ON</td>\n",
       "    </tr>\n",
       "    <tr>\n",
       "      <th>4</th>\n",
       "      <td>1</td>\n",
       "      <td>0</td>\n",
       "      <td>Allison, Mr. Hudson Joshua Creighton</td>\n",
       "      <td>male</td>\n",
       "      <td>30</td>\n",
       "      <td>1</td>\n",
       "      <td>2</td>\n",
       "      <td>113781</td>\n",
       "      <td>151.55</td>\n",
       "      <td>C22 C26</td>\n",
       "      <td>S</td>\n",
       "      <td>NaN</td>\n",
       "      <td>135</td>\n",
       "      <td>Montreal, PQ / Chesterville, ON</td>\n",
       "    </tr>\n",
       "    <tr>\n",
       "      <th>5</th>\n",
       "      <td>1</td>\n",
       "      <td>0</td>\n",
       "      <td>Allison, Mrs. Hudson J C (Bessie Waldo Daniels)</td>\n",
       "      <td>female</td>\n",
       "      <td>25</td>\n",
       "      <td>1</td>\n",
       "      <td>2</td>\n",
       "      <td>113781</td>\n",
       "      <td>151.55</td>\n",
       "      <td>C22 C26</td>\n",
       "      <td>S</td>\n",
       "      <td>NaN</td>\n",
       "      <td>NaN</td>\n",
       "      <td>Montreal, PQ / Chesterville, ON</td>\n",
       "    </tr>\n",
       "  </tbody>\n",
       "</table>\n",
       "</div>"
      ],
      "text/plain": [
       "  Pas_class Survived                                             Name     Sex  \\\n",
       "1         1        1                    Allen, Miss. Elisabeth Walton  female   \n",
       "2         1        1                   Allison, Master. Hudson Trevor    male   \n",
       "3         1        0                     Allison, Miss. Helen Loraine  female   \n",
       "4         1        0             Allison, Mr. Hudson Joshua Creighton    male   \n",
       "5         1        0  Allison, Mrs. Hudson J C (Bessie Waldo Daniels)  female   \n",
       "\n",
       "      Age sibsp parch  Ticket      Fare    Cabin Embarked Boat Body  \\\n",
       "1      29     0     0   24160  211.3375       B5        S    2  NaN   \n",
       "2  0.9167     1     2  113781    151.55  C22 C26        S   11  NaN   \n",
       "3       2     1     2  113781    151.55  C22 C26        S  NaN  NaN   \n",
       "4      30     1     2  113781    151.55  C22 C26        S  NaN  135   \n",
       "5      25     1     2  113781    151.55  C22 C26        S  NaN  NaN   \n",
       "\n",
       "                         home-dest  \n",
       "1                     St Louis, MO  \n",
       "2  Montreal, PQ / Chesterville, ON  \n",
       "3  Montreal, PQ / Chesterville, ON  \n",
       "4  Montreal, PQ / Chesterville, ON  \n",
       "5  Montreal, PQ / Chesterville, ON  "
      ]
     },
     "execution_count": 210,
     "metadata": {},
     "output_type": "execute_result"
    }
   ],
   "source": [
    "pv.Pas_class1.head() #previous dataframe"
   ]
  },
  {
   "cell_type": "markdown",
   "id": "0df54ce0",
   "metadata": {},
   "source": [
    "SHorting data by survived or dead by class-1, class-2,class-3"
   ]
  },
  {
   "cell_type": "code",
   "execution_count": 211,
   "id": "4ef42b35",
   "metadata": {
    "scrolled": true
   },
   "outputs": [
    {
     "name": "stdout",
     "output_type": "stream",
     "text": [
      "Class-1\n",
      "survived 200\n",
      "dead 123\n"
     ]
    }
   ],
   "source": [
    "class_1=pv.Pas_class1[pv.Pas_class1['Survived']==1]\n",
    "a=class_1.Survived.count()\n",
    "print(\"Class-1\")\n",
    "print(\"survived\",a)\n",
    "dead1=pv.Pas_class1[pv.Pas_class1['Survived']==0]\n",
    "d1=dead1.Survived.count()\n",
    "print(\"dead\",d1)\n",
    "\n"
   ]
  },
  {
   "cell_type": "code",
   "execution_count": 212,
   "id": "7bf60e45",
   "metadata": {},
   "outputs": [
    {
     "name": "stdout",
     "output_type": "stream",
     "text": [
      "Class-2\n",
      "survived 119\n",
      "dead 158\n"
     ]
    }
   ],
   "source": [
    "class_2=pv.Pas_class2[pv.Pas_class2['Survived']==1]\n",
    "b=class_2.Survived.count()\n",
    "print(\"Class-2\")\n",
    "print(\"survived\",b)\n",
    "dead2=pv.Pas_class2[pv.Pas_class2['Survived']==0]\n",
    "d2=dead2.Survived.count()\n",
    "print(\"dead\",d2)\n"
   ]
  },
  {
   "cell_type": "code",
   "execution_count": 213,
   "id": "58d42134",
   "metadata": {},
   "outputs": [
    {
     "name": "stdout",
     "output_type": "stream",
     "text": [
      "Class-3\n",
      "survived 181\n",
      "dead 528\n"
     ]
    }
   ],
   "source": [
    "class_3=pv.Pas_class3[pv.Pas_class3['Survived']==1]\n",
    "c=class_3.Survived.count()\n",
    "print(\"Class-3\")\n",
    "print(\"survived\",c)\n",
    "dead3=pv.Pas_class3[pv.Pas_class3['Survived']==0]\n",
    "d3=dead3.Survived.count()\n",
    "print(\"dead\",d3)\n"
   ]
  },
  {
   "cell_type": "markdown",
   "id": "039e8dfa",
   "metadata": {},
   "source": [
    "# Create a bar chart for number of passengers survived by class"
   ]
  },
  {
   "cell_type": "code",
   "execution_count": 102,
   "id": "7337ec46",
   "metadata": {},
   "outputs": [
    {
     "data": {
      "image/png": "[encoded data removed]",
      "text/plain": [
       "<Figure size 432x288 with 1 Axes>"
      ]
     },
     "metadata": {
      "needs_background": "light"
     },
     "output_type": "display_data"
    }
   ],
   "source": [
    "df = pd.DataFrame({'class':['class_1', 'Class_2', 'Class_3'], 'number of surviver':[a, b, c]})\n",
    "ax = df.plot.bar(x='class', y='number of surviver', rot=0)"
   ]
  },
  {
   "cell_type": "markdown",
   "id": "ee8b3dbb",
   "metadata": {},
   "source": [
    "Shorting male survived and female survived & dead by class "
   ]
  },
  {
   "cell_type": "code",
   "execution_count": 131,
   "id": "72092e2b",
   "metadata": {},
   "outputs": [
    {
     "name": "stdout",
     "output_type": "stream",
     "text": [
      "Survived\n",
      "Male count 61\n",
      "Female count 139\n",
      "\n",
      "Dead\n",
      "Male count 118\n",
      "Female count 5\n"
     ]
    }
   ],
   "source": [
    "male1=class_1[class_1['Sex']==\"male\"]\n",
    "m1=male1['Sex'].count()\n",
    "print(\"Survived\")\n",
    "print(\"Male count\",m1)\n",
    "female1=class_1[class_1['Sex']==\"female\"]\n",
    "f1=female1['Sex'].count()\n",
    "print(\"Female count\",f1)\n",
    "\n",
    "print(\"\\nDead\")\n",
    "male1=dead1[dead1['Sex']==\"male\"]\n",
    "m_1=male1['Sex'].count()\n",
    "print(\"Male count\",m_1)\n",
    "female1=dead1[dead1['Sex']==\"female\"]\n",
    "f_1=female1['Sex'].count()\n",
    "print(\"Female count\",f_1)\n"
   ]
  },
  {
   "cell_type": "code",
   "execution_count": 130,
   "id": "38e5fc47",
   "metadata": {},
   "outputs": [
    {
     "name": "stdout",
     "output_type": "stream",
     "text": [
      "Survived\n",
      "Male count 25\n",
      "Female count 94\n",
      "\n",
      "Dead\n",
      "Male count 146\n",
      "Female count 12\n"
     ]
    }
   ],
   "source": [
    "male2=class_2[class_2['Sex']==\"male\"]\n",
    "m2=male2['Sex'].count()\n",
    "print(\"Survived\")\n",
    "print(\"Male count\",m2)\n",
    "female2=class_2[class_2['Sex']==\"female\"]\n",
    "f2=female2['Sex'].count()\n",
    "print(\"Female count\",f2)\n",
    "print(\"\\nDead\")\n",
    "male2=dead2[dead2['Sex']==\"male\"]\n",
    "m_2=male2['Sex'].count()\n",
    "print(\"Male count\",m_2)\n",
    "female2=dead2[dead2['Sex']==\"female\"]\n",
    "f_2=female2['Sex'].count()\n",
    "print(\"Female count\",f_2)"
   ]
  },
  {
   "cell_type": "code",
   "execution_count": 129,
   "id": "5e6d13b3",
   "metadata": {},
   "outputs": [
    {
     "name": "stdout",
     "output_type": "stream",
     "text": [
      "Male count 75\n",
      "Female count 106\n",
      "\n",
      "Dead\n",
      "Male count 418\n",
      "Female count 110\n"
     ]
    }
   ],
   "source": [
    "male3=class_3[class_3['Sex']==\"male\"]\n",
    "m3=male3['Sex'].count()\n",
    "print(\"Male count\",m3)\n",
    "female3=class_3[class_3['Sex']==\"female\"]\n",
    "f3=female3['Sex'].count()\n",
    "print(\"Female count\",f3)\n",
    "\n",
    "print(\"\\nDead\")\n",
    "male3=dead3[dead3['Sex']==\"male\"]\n",
    "m_3=male3['Sex'].count()\n",
    "print(\"Male count\",m_3)\n",
    "female3=dead3[dead3['Sex']==\"female\"]\n",
    "f_3=female3['Sex'].count()\n",
    "print(\"Female count\",f_3)"
   ]
  },
  {
   "cell_type": "markdown",
   "id": "485cff94",
   "metadata": {},
   "source": [
    "Create a vertical bar chart for passengers survived by class and gender"
   ]
  },
  {
   "cell_type": "code",
   "execution_count": 123,
   "id": "dc25c4a5",
   "metadata": {},
   "outputs": [
    {
     "data": {
      "image/png": "[encoded data removed]",
      "text/plain": [
       "<Figure size 432x288 with 1 Axes>"
      ]
     },
     "metadata": {
      "needs_background": "light"
     },
     "output_type": "display_data"
    }
   ],
   "source": [
    "male= [m1, m2, m3]\n",
    "female = [f1,f2,f3]\n",
    "index = ['class_1', 'class_2', 'class_3']\n",
    "df = pd.DataFrame({'male': male,\n",
    "                   'female': female}, index=index)\n",
    "ax = df.plot.bar()"
   ]
  },
  {
   "cell_type": "markdown",
   "id": "d1f48de4",
   "metadata": {},
   "source": [
    " Create a stacked chart survived vs dead for different classes and gender"
   ]
  },
  {
   "cell_type": "code",
   "execution_count": 133,
   "id": "af6f4a49",
   "metadata": {},
   "outputs": [
    {
     "data": {
      "image/png": "[encoded data removed]",
      "text/plain": [
       "<Figure size 432x288 with 1 Axes>"
      ]
     },
     "metadata": {
      "needs_background": "light"
     },
     "output_type": "display_data"
    }
   ],
   "source": [
    "male= [m1,m_1,m2,m_2,m3,m_3]\n",
    "female = [f1,f_1,f2,f_2,f3,f_3]\n",
    "index = ['survived_1','dead1', 'survived_2','dead2', 'survived_3','dead3']\n",
    "df = pd.DataFrame({'male': male,\n",
    "                   'female': female}, index=index)\n",
    "ax = df.plot.bar(stacked=True)"
   ]
  },
  {
   "cell_type": "markdown",
   "id": "231bbf0d",
   "metadata": {},
   "source": [
    "Here, \n",
    "survived_1 means survived people from class-1"
   ]
  },
  {
   "cell_type": "markdown",
   "id": "d198e33c",
   "metadata": {},
   "source": [
    "same as dead1 means dead people from class-1 "
   ]
  },
  {
   "cell_type": "markdown",
   "id": "5d9a2ad2",
   "metadata": {},
   "source": [
    "survived_2 means survived people from class-2"
   ]
  },
  {
   "cell_type": "markdown",
   "id": "104d75ac",
   "metadata": {},
   "source": [
    "same as dead2 means dead people from class-2 "
   ]
  },
  {
   "cell_type": "markdown",
   "id": "a7f847b3",
   "metadata": {},
   "source": [
    "survived_3 means survived people from class-3"
   ]
  },
  {
   "cell_type": "markdown",
   "id": "ad6aaa07",
   "metadata": {},
   "source": [
    "same as dead3 means dead people from class-3"
   ]
  },
  {
   "cell_type": "markdown",
   "id": "d9db7a34",
   "metadata": {},
   "source": [
    "Plot histogram of fares paid for passengers bins = 30"
   ]
  },
  {
   "cell_type": "code",
   "execution_count": 148,
   "id": "f03cf59e",
   "metadata": {},
   "outputs": [
    {
     "data": {
      "image/png": "[encoded data removed]",
      "text/plain": [
       "<Figure size 432x288 with 1 Axes>"
      ]
     },
     "metadata": {
      "needs_background": "light"
     },
     "output_type": "display_data"
    }
   ],
   "source": [
    "pv.Titanic.Fare.plot(kind='hist',title=\"fare paid by passenger\", bins=30)\n",
    "plot.xlabel('passenger')\n",
    "plot.ylabel('paid')\n",
    "plot.show()"
   ]
  },
  {
   "cell_type": "markdown",
   "id": "be66a91f",
   "metadata": {},
   "source": [
    ".Create a KDE vs bar plot of the fare"
   ]
  },
  {
   "cell_type": "code",
   "execution_count": 169,
   "id": "754d3fd1",
   "metadata": {},
   "outputs": [
    {
     "data": {
      "image/png": "[encoded data removed]",
      "text/plain": [
       "<Figure size 432x288 with 1 Axes>"
      ]
     },
     "metadata": {
      "needs_background": "light"
     },
     "output_type": "display_data"
    }
   ],
   "source": [
    "kde_fare = pd.Series(pv.Titanic.Fare)\n",
    "t = kde_fare.plot.kde()"
   ]
  },
  {
   "cell_type": "code",
   "execution_count": 177,
   "id": "9bb6afe1",
   "metadata": {},
   "outputs": [
    {
     "data": {
      "image/png": "[encoded data removed]",
      "text/plain": [
       "<Figure size 432x288 with 1 Axes>"
      ]
     },
     "metadata": {
      "needs_background": "light"
     },
     "output_type": "display_data"
    }
   ],
   "source": [
    "bar_fare = pd.Series(pv.Titanic.Fare)\n",
    "plot.xlabel(\"Passenger\")\n",
    "plot.ylabel(\"Fare\")\n",
    "t = bar_fare.plot(color=\"orange\")"
   ]
  },
  {
   "cell_type": "markdown",
   "id": "6ecc52be",
   "metadata": {},
   "source": [
    "Create a box plot of the fares by passenger class"
   ]
  },
  {
   "cell_type": "code",
   "execution_count": null,
   "id": "3b3cf11f",
   "metadata": {},
   "outputs": [],
   "source": []
  },
  {
   "cell_type": "code",
   "execution_count": 223,
   "id": "74221f4f",
   "metadata": {
    "scrolled": true
   },
   "outputs": [
    {
     "data": {
      "image/png": "[encoded data removed]",
      "text/plain": [
       "<IPython.core.display.Image object>"
      ]
     },
     "execution_count": 223,
     "metadata": {},
     "output_type": "execute_result"
    }
   ],
   "source": [
    "box_class=pe.box(pv.Titanic, x='Pas_class',y='Fare',title=\"BOX graph for Fare by passenger's CLASS\")\n",
    "box_class.write_image(\"A4.png\")\n",
    "Image(filename =\"A4.png\")"
   ]
  },
  {
   "cell_type": "markdown",
   "id": "322c0b3e",
   "metadata": {},
   "source": [
    "Create a box plot of the age by passenger class"
   ]
  },
  {
   "cell_type": "code",
   "execution_count": 221,
   "id": "5700e228",
   "metadata": {},
   "outputs": [
    {
     "data": {
      "image/png": "[encoded data removed]",
      "text/plain": [
       "<IPython.core.display.Image object>"
      ]
     },
     "execution_count": 221,
     "metadata": {},
     "output_type": "execute_result"
    }
   ],
   "source": [
    "box_age=pe.box(pv.Titanic, x='Pas_class',y='Age',title=\"BOX graph for Fare by passenger's AGE\")\n",
    "box_age.write_image(\"A5.png\")\n",
    "Image(filename =\"A5.png\")"
   ]
  },
  {
   "cell_type": "code",
   "execution_count": null,
   "id": "9dc9944c",
   "metadata": {},
   "outputs": [],
   "source": []
  }
 ],
 "metadata": {
  "kernelspec": {
   "display_name": "Python 3 (ipykernel)",
   "language": "python",
   "name": "python3"
  },
  "language_info": {
   "codemirror_mode": {
    "name": "ipython",
    "version": 3
   },
   "file_extension": ".py",
   "mimetype": "text/x-python",
   "name": "python",
   "nbconvert_exporter": "python",
   "pygments_lexer": "ipython3",
   "version": "3.10.2"
  }
 },
 "nbformat": 4,
 "nbformat_minor": 5
}
