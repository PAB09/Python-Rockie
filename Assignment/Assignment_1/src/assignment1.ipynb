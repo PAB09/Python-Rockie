{
 "cells": [
  {
   "cell_type": "code",
   "execution_count": 5,
   "id": "878580a5",
   "metadata": {},
   "outputs": [],
   "source": [
    "import random\n",
    "import csv"
   ]
  },
  {
   "cell_type": "code",
   "execution_count": 11,
   "id": "d067f824",
   "metadata": {
    "scrolled": true
   },
   "outputs": [
    {
     "name": "stdout",
     "output_type": "stream",
     "text": [
      "Total number of record are 45\n",
      "Enter number:9\n",
      "\n",
      " Group:0 [['Hayes, Kevin', '1339408132756941989'], ['Whitfield, Logan', '-6061069211117658187'], ['Veeramaneni, Varsha', '-6644442737343541771'], ['Chilakuri, Lahari', '-1979813415920304142'], ['Reminisetty, Sai Naga Pavani', '1591685606807352508']]\n",
      "\n",
      " Group:1 [['Erram, Viveka', '-1290993697682729798'], ['Dey, Amitabha', '-3886376931052097666'], ['Khant, Naitik Nilesh', '-965756823075472977'], ['Arasikere Rakesh, Raveena', '2268593958250897116'], ['Vidapu, Aman Tej', '-2035093325430431991']]\n",
      "\n",
      " Group:2 [['Gonzalez, Franque', '-730044730185823083'], ['Killworth, Kyle', '-8848445668263649238'], ['Alavala, Kushal', '7949742603085756203'], ['Budavi, Priyanka', '8649594668534127648'], ['Ganti, Vrinda Prabhakaram', '6421234007558707556']]\n",
      "\n",
      " Group:3 [['Konka, Sri Vyshnavi', '9104511449264629905'], ['Gummadi, Venkat', '5604102690916584116'], ['Nguyen, Anne', '-1723188875694226164'], ['Yadav, Aryan', '-4087399839370729222'], ['Gabbula, Sai Ram Ajay Krishna', '8152531025298062743']]\n",
      "\n",
      " Group:4 [['Aditham, Manideep', '2748218694791991120'], ['Bhimineni, Lokesh', '362408483941604790'], ['Nayal, Meghna', '-3470105812940901766'], ['Blankson, Daniel', '-8968872549789180149'], ['Terrell, Jerry', '-4455125766486173996']]\n",
      "\n",
      " Group:5 [['Kallem, Snehith', '5525470488191116272'], ['Darandale, Aditi', '7208842126573094853'], ['Edamadaka, Vamshi Krishna', '892661543899331206'], ['Gabbula, Venkata Vijay Krishna', '1151979053453793459'], ['Littlejohn, Jesea', '7203332082110553252']]\n",
      "\n",
      " Group:6 [['Luo, Jacky', '6709415157623490936'], ['Bhatt, Pratik Ashish', '-2970699835927101998'], ['Nukala, Tanmayee', '-1525574646263817008'], ['Carter, Jesse', '-3206211230938166746'], ['Tadikonda, Saipavan', '869885833329840789']]\n",
      "\n",
      " Group:7 [['Bonfield, Sage', '-6504927969497061295'], ['Nayal, Yamini', '9103315745626399993'], ['Serratos Prudencio, Francisco', '-2462509233739110775'], ['Proctor, Alyiah', '3671600931463625562'], ['Sarkar, Reetika', '8643242298665096034']]\n",
      "\n",
      " Group:8 [['Kasula, Sahaj', '3920808829343271099'], ['Turmenne, Dominic', '8125580341883296944'], ['Gadireddy, Pavithra', '-8192697761711052655'], ['Shah, Manish', '-3589171692494337814'], ['Thummalapally, Akhil Reddy', '-2176125765953617954']]\n"
     ]
    }
   ],
   "source": [
    "with open('data.txt') as c:\n",
    "\n",
    "    array=[]\n",
    "    def file():\n",
    "       \n",
    "        d=csv.reader(c,delimiter=\"\\t\")\n",
    "        rows=[]\n",
    "        for row in d:\n",
    "            rows.append(row)\n",
    "        rows=rows[1:]\n",
    "        array=rows\n",
    "        x=len(array)\n",
    "        print(\"Total number of record are\",+ x)\n",
    "        a=int(input(\"Enter number:\")) \n",
    "        if(a%3==0 or a%5==0):\n",
    "            random.shuffle(array)            \n",
    "            for i in range(a):\n",
    "                print(\"\\n Group:\"+ str(i), array[i::a])      \n",
    "        else : print(\"Enter number that will divide group equally 3 or 5 or 9\")\n",
    "        \n",
    "    file() "
   ]
  },
  {
   "cell_type": "code",
   "execution_count": null,
   "id": "5cf3c537",
   "metadata": {},
   "outputs": [],
   "source": []
  }
 ],
 "metadata": {
  "kernelspec": {
   "display_name": "Python 3 (ipykernel)",
   "language": "python",
   "name": "python3"
  },
  "language_info": {
   "codemirror_mode": {
    "name": "ipython",
    "version": 3
   },
   "file_extension": ".py",
   "mimetype": "text/x-python",
   "name": "python",
   "nbconvert_exporter": "python",
   "pygments_lexer": "ipython3",
   "version": "3.10.2"
  }
 },
 "nbformat": 4,
 "nbformat_minor": 5
}
