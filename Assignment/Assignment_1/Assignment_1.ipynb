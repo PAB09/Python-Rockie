{
 "cells": [
  {
   "cell_type": "code",
   "execution_count": 1,
   "id": "878580a5",
   "metadata": {},
   "outputs": [],
   "source": [
    "import random ##importing library for shuffle function.\n",
    "import csv  ##import this library for csv reseder that read file and store it to a variable."
   ]
  },
  {
   "cell_type": "code",
   "execution_count": 2,
   "id": "d067f824",
   "metadata": {
    "scrolled": false
   },
   "outputs": [
    {
     "name": "stdout",
     "output_type": "stream",
     "text": [
      "Total number of record are 45\n",
      "Enter maximum group size:5\n",
      "\n",
      " Group:0 [['Shah, Manish', '-3589171692494337814'], ['Bonfield, Sage', '-6504927969497061295'], ['Bhimineni, Lokesh', '362408483941604790'], ['Nayal, Yamini', '9103315745626399993'], ['Blankson, Daniel', '-8968872549789180149'], ['Konka, Sri Vyshnavi', '9104511449264629905'], ['Gabbula, Sai Ram Ajay Krishna', '8152531025298062743'], ['Erram, Viveka', '-1290993697682729798'], ['Nukala, Tanmayee', '-1525574646263817008']]\n",
      "\n",
      " Group:1 [['Thummalapally, Akhil Reddy', '-2176125765953617954'], ['Sarkar, Reetika', '8643242298665096034'], ['Darandale, Aditi', '7208842126573094853'], ['Turmenne, Dominic', '8125580341883296944'], ['Alavala, Kushal', '7949742603085756203'], ['Aditham, Manideep', '2748218694791991120'], ['Edamadaka, Vamshi Krishna', '892661543899331206'], ['Gummadi, Venkat', '5604102690916584116'], ['Littlejohn, Jesea', '7203332082110553252']]\n",
      "\n",
      " Group:2 [['Gabbula, Venkata Vijay Krishna', '1151979053453793459'], ['Chilakuri, Lahari', '-1979813415920304142'], ['Kallem, Snehith', '5525470488191116272'], ['Reminisetty, Sai Naga Pavani', '1591685606807352508'], ['Nguyen, Anne', '-1723188875694226164'], ['Yadav, Aryan', '-4087399839370729222'], ['Veeramaneni, Varsha', '-6644442737343541771'], ['Proctor, Alyiah', '3671600931463625562'], ['Gonzalez, Franque', '-730044730185823083']]\n",
      "\n",
      " Group:3 [['Arasikere Rakesh, Raveena', '2268593958250897116'], ['Dey, Amitabha', '-3886376931052097666'], ['Khant, Naitik Nilesh', '-965756823075472977'], ['Luo, Jacky', '6709415157623490936'], ['Nayal, Meghna', '-3470105812940901766'], ['Whitfield, Logan', '-6061069211117658187'], ['Tadikonda, Saipavan', '869885833329840789'], ['Bhatt, Pratik Ashish', '-2970699835927101998'], ['Hayes, Kevin', '1339408132756941989']]\n",
      "\n",
      " Group:4 [['Carter, Jesse', '-3206211230938166746'], ['Serratos Prudencio, Francisco', '-2462509233739110775'], ['Budavi, Priyanka', '8649594668534127648'], ['Ganti, Vrinda Prabhakaram', '6421234007558707556'], ['Kasula, Sahaj', '3920808829343271099'], ['Terrell, Jerry', '-4455125766486173996'], ['Killworth, Kyle', '-8848445668263649238'], ['Gadireddy, Pavithra', '-8192697761711052655'], ['Vidapu, Aman Tej', '-2035093325430431991']]\n"
     ]
    }
   ],
   "source": [
    "with open('data.txt') as c:            ## here we open our data file from which all student information are store.\n",
    "\n",
    "    array=[]                           ##we declaring one glbobar array in which we stroing the result from csv reader function.\n",
    "    def file():                        ## defining a function called file by calling this function we can make random group of student.\n",
    "       \n",
    "        d=csv.reader(c,delimiter=\"\\t\") ##here we read data from file and store into d \n",
    "        rows=[]\n",
    "        for row in d:                  ## now we apply for loop untill all value of d are encounter, row is one variable which increase untill it match to d\n",
    "            rows.append(row)           ## append function use to add record into rows array.\n",
    "        rows=rows[1:]                  ##by this step we state that adding data into one perticular sequence 1-n \n",
    "        array=rows                     \n",
    "        x=len(array)                   ##finding length of array for checking equal division condition    \n",
    "        print(\"Total number of record are\",+ x)\n",
    "        a=int(input(\"Enter maximum group size:\"))  ##taking user input for dividing group\n",
    "        if(a%3==0 or a%5==0):          ##staring if loop for equal division and if satisfied then shuffle  students and print heri name acoourding to input number \n",
    "            random.shuffle(array)      ##shuffle method fromrandom class which is useful for random pickup name      \n",
    "            for i in range(a):         ##for loop is illitrstaes printing student name according to group limit.\n",
    "                print(\"\\n Group:\"+ str(i), array[i::a])      \n",
    "        else : print(\"Enter number that will divide group equally 3 or 5 or 9\")  ## else part for just user idea that if he put some other nondivisible number then group member numbers are uneven which is not valid.\n",
    "        \n",
    "    file() "
   ]
  }
 ],
 "metadata": {
  "kernelspec": {
   "display_name": "Python 3 (ipykernel)",
   "language": "python",
   "name": "python3"
  },
  "language_info": {
   "codemirror_mode": {
    "name": "ipython",
    "version": 3
   },
   "file_extension": ".py",
   "mimetype": "text/x-python",
   "name": "python",
   "nbconvert_exporter": "python",
   "pygments_lexer": "ipython3",
   "version": "3.10.2"
  }
 },
 "nbformat": 4,
 "nbformat_minor": 5
}
